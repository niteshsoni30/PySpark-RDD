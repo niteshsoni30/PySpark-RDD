{
  "nbformat": 4,
  "nbformat_minor": 0,
  "metadata": {
    "colab": {
      "provenance": [],
      "authorship_tag": "ABX9TyPLQIKakt3bplGv3Dec7g7I",
      "include_colab_link": true
    },
    "kernelspec": {
      "name": "python3",
      "display_name": "Python 3"
    },
    "language_info": {
      "name": "python"
    }
  },
  "cells": [
    {
      "cell_type": "markdown",
      "metadata": {
        "id": "view-in-github",
        "colab_type": "text"
      },
      "source": [
        "<a href=\"https://colab.research.google.com/github/niteshsoni30/PySpark-RDD/blob/main/Spark_Rdd_01.ipynb\" target=\"_parent\"><img src=\"https://colab.research.google.com/assets/colab-badge.svg\" alt=\"Open In Colab\"/></a>"
      ]
    },
    {
      "cell_type": "code",
      "execution_count": null,
      "metadata": {
        "id": "X0BJYZc_99Pu"
      },
      "outputs": [],
      "source": [
        "from pyspark.sql import SparkSession"
      ]
    },
    {
      "cell_type": "code",
      "source": [
        "spark = SparkSession.builder\\\n",
        ".appName(\"Spark Rdd\")\\\n",
        ".getOrCreate()"
      ],
      "metadata": {
        "id": "imolrc8T-CZI"
      },
      "execution_count": null,
      "outputs": []
    },
    {
      "cell_type": "code",
      "source": [
        "customer_data=[\n",
        "    \"customer_id,name,city,state,counry,registration_date,is_active\",\n",
        "    \"0,Customer_0,Bangalore,karnataka,INdia,2023-11-11,True\",\n",
        "    \"1,Customer_1,Heydrabad,karnataka,INdia,2023-11-11,True\",\n",
        "    \"2,Customer_2,Ahemdabad,gujarat,INdia,2023-11-11,True\",\n",
        "    \"3,Customer_3,Bangalore,karnataka,INdia,2023-11-11,False\",\n",
        "    \"4,Customer_4,Bangalore,karnataka,INdia,2023-11-11,False\",\n",
        "    \"5,Customer_5,Delhi,Dekhi,INdia,2023-11-11,False\",\n",
        "]"
      ],
      "metadata": {
        "id": "SvdDtH0B-yzA"
      },
      "execution_count": null,
      "outputs": []
    },
    {
      "cell_type": "code",
      "source": [
        "data_rdd = spark.sparkContext.parallelize(customer_data)"
      ],
      "metadata": {
        "id": "6xh6uwbrAFy1"
      },
      "execution_count": null,
      "outputs": []
    },
    {
      "cell_type": "code",
      "source": [
        "data_rdd.getNumPartitions()"
      ],
      "metadata": {
        "colab": {
          "base_uri": "https://localhost:8080/"
        },
        "id": "QCJNXs2MAW6N",
        "outputId": "f17eacfc-0314-4eb0-e928-7e5d67b2c232"
      },
      "execution_count": null,
      "outputs": [
        {
          "output_type": "execute_result",
          "data": {
            "text/plain": [
              "2"
            ]
          },
          "metadata": {},
          "execution_count": 15
        }
      ]
    },
    {
      "cell_type": "code",
      "source": [
        "#RDD- Resilient Distributed Dataset"
      ],
      "metadata": {
        "id": "Doh8N4JuAaqY"
      },
      "execution_count": null,
      "outputs": []
    },
    {
      "cell_type": "code",
      "source": [
        "#FIRST  returns first element of rdd"
      ],
      "metadata": {
        "id": "QiLknCQxArNn"
      },
      "execution_count": null,
      "outputs": []
    },
    {
      "cell_type": "code",
      "source": [
        "header = data_rdd.first()"
      ],
      "metadata": {
        "id": "D4wUO9ipAwbk"
      },
      "execution_count": null,
      "outputs": []
    },
    {
      "cell_type": "code",
      "source": [
        "header"
      ],
      "metadata": {
        "colab": {
          "base_uri": "https://localhost:8080/",
          "height": 36
        },
        "id": "sKmpwbwUA6ek",
        "outputId": "1a50cab3-e65c-4f06-c2dd-bd8322b95048"
      },
      "execution_count": null,
      "outputs": [
        {
          "output_type": "execute_result",
          "data": {
            "text/plain": [
              "'customer_id,name,city,state,counry,registration_date,is_active'"
            ],
            "application/vnd.google.colaboratory.intrinsic+json": {
              "type": "string"
            }
          },
          "metadata": {},
          "execution_count": 19
        }
      ]
    },
    {
      "cell_type": "code",
      "source": [
        "#filter the data\n",
        "#removing the header from data\n",
        "\n",
        "data_rdd = data_rdd.filter(lambda row:row!=header)"
      ],
      "metadata": {
        "id": "bmbrmW5rA7rU"
      },
      "execution_count": null,
      "outputs": []
    },
    {
      "cell_type": "code",
      "source": [
        "data_rdd.collect()"
      ],
      "metadata": {
        "colab": {
          "base_uri": "https://localhost:8080/"
        },
        "id": "-My30APLBrYQ",
        "outputId": "c0e3390e-682b-4dbf-835a-0f31df2723a8"
      },
      "execution_count": null,
      "outputs": [
        {
          "output_type": "execute_result",
          "data": {
            "text/plain": [
              "['0,Customer_0,Bangalore,karnataka,INdia,2023-11-11,True',\n",
              " '1,Customer_1,Heydrabad,karnataka,INdia,2023-11-11,True',\n",
              " '2,Customer_2,Ahemdabad,gujarat,INdia,2023-11-11,True',\n",
              " '3,Customer_3,Bangalore,karnataka,INdia,2023-11-11,False',\n",
              " '4,Customer_4,Bangalore,karnataka,INdia,2023-11-11,False',\n",
              " '5,Customer_5,Delhi,Dekhi,INdia,2023-11-11,False']"
            ]
          },
          "metadata": {},
          "execution_count": 21
        }
      ]
    },
    {
      "cell_type": "code",
      "source": [
        "def parse_row(row):\n",
        "  fields = row.split(\",\")\n",
        "  return (\n",
        "          fields[0],\n",
        "          fields[1],\n",
        "          fields[2],\n",
        "          fields[3],\n",
        "          fields[4],\n",
        "          fields[5],\n",
        "          fields[6] =='True'\n",
        "  )"
      ],
      "metadata": {
        "id": "5xFnNSPxCLAe"
      },
      "execution_count": null,
      "outputs": []
    },
    {
      "cell_type": "code",
      "source": [
        "#map operation\n",
        "\n",
        "#it applies a function to each element in an rdd\n",
        "\n",
        "parsed_rdd = data_rdd.map(parse_row)"
      ],
      "metadata": {
        "id": "-FfBT4bOBtI_"
      },
      "execution_count": null,
      "outputs": []
    },
    {
      "cell_type": "code",
      "source": [
        "parsed_rdd.collect()"
      ],
      "metadata": {
        "colab": {
          "base_uri": "https://localhost:8080/"
        },
        "id": "ERxHNcK2C5OQ",
        "outputId": "465b6486-a8b3-4e66-9b3c-e2a508dab203"
      },
      "execution_count": null,
      "outputs": [
        {
          "output_type": "execute_result",
          "data": {
            "text/plain": [
              "[('0', 'Customer_0', 'Bangalore', 'karnataka', 'INdia', '2023-11-11', True),\n",
              " ('1', 'Customer_1', 'Heydrabad', 'karnataka', 'INdia', '2023-11-11', True),\n",
              " ('2', 'Customer_2', 'Ahemdabad', 'gujarat', 'INdia', '2023-11-11', True),\n",
              " ('3', 'Customer_3', 'Bangalore', 'karnataka', 'INdia', '2023-11-11', False),\n",
              " ('4', 'Customer_4', 'Bangalore', 'karnataka', 'INdia', '2023-11-11', False),\n",
              " ('5', 'Customer_5', 'Delhi', 'Dekhi', 'INdia', '2023-11-11', False)]"
            ]
          },
          "metadata": {},
          "execution_count": 52
        }
      ]
    },
    {
      "cell_type": "code",
      "source": [
        "#Advanced RDD Operations"
      ],
      "metadata": {
        "id": "bCa2uUZTDMPt"
      },
      "execution_count": null,
      "outputs": []
    },
    {
      "cell_type": "code",
      "source": [
        "name_city_rdd = parsed_rdd.map(lambda row: (row[1],row[2]))"
      ],
      "metadata": {
        "id": "Px0498u1Dst1"
      },
      "execution_count": null,
      "outputs": []
    },
    {
      "cell_type": "code",
      "source": [
        "name_city_rdd.collect()"
      ],
      "metadata": {
        "colab": {
          "base_uri": "https://localhost:8080/"
        },
        "id": "o13qx2laC7KS",
        "outputId": "ed3cda1f-64e1-4754-88d9-50a76208dee2"
      },
      "execution_count": null,
      "outputs": [
        {
          "output_type": "execute_result",
          "data": {
            "text/plain": [
              "[('Customer_0', 'Bangalore'),\n",
              " ('Customer_1', 'Heydrabad'),\n",
              " ('Customer_2', 'Ahemdabad'),\n",
              " ('Customer_3', 'Bangalore'),\n",
              " ('Customer_4', 'Bangalore'),\n",
              " ('Customer_5', 'Delhi')]"
            ]
          },
          "metadata": {},
          "execution_count": 55
        }
      ]
    },
    {
      "cell_type": "code",
      "source": [
        "#filter out active customer\n"
      ],
      "metadata": {
        "id": "B9iXEM8YEMLq"
      },
      "execution_count": null,
      "outputs": []
    },
    {
      "cell_type": "code",
      "source": [
        "active_customers = parsed_rdd.filter(lambda row:row[6] == True)"
      ],
      "metadata": {
        "id": "aNtnJWysEXL3"
      },
      "execution_count": null,
      "outputs": []
    },
    {
      "cell_type": "code",
      "source": [
        "active_customers.collect()"
      ],
      "metadata": {
        "colab": {
          "base_uri": "https://localhost:8080/"
        },
        "id": "X0EBp4qpEhju",
        "outputId": "8bed94e4-79cc-499f-ae55-6bfce1926b6d"
      },
      "execution_count": null,
      "outputs": [
        {
          "output_type": "execute_result",
          "data": {
            "text/plain": [
              "[('0', 'Customer_0', 'Bangalore', 'karnataka', 'INdia', '2023-11-11', True),\n",
              " ('1', 'Customer_1', 'Heydrabad', 'karnataka', 'INdia', '2023-11-11', True),\n",
              " ('2', 'Customer_2', 'Ahemdabad', 'gujarat', 'INdia', '2023-11-11', True)]"
            ]
          },
          "metadata": {},
          "execution_count": 60
        }
      ]
    },
    {
      "cell_type": "code",
      "source": [
        "#distinct transformation\n",
        "\n",
        "cities_rdd = parsed_rdd.map(lambda row:row[2]).distinct()"
      ],
      "metadata": {
        "id": "RNX_GAFhEj-Z"
      },
      "execution_count": null,
      "outputs": []
    },
    {
      "cell_type": "code",
      "source": [
        "cities_rdd.collect()"
      ],
      "metadata": {
        "colab": {
          "base_uri": "https://localhost:8080/"
        },
        "id": "YHSNqrJvGK2T",
        "outputId": "74b9e869-cfaa-4f82-8aad-18158307f0aa"
      },
      "execution_count": null,
      "outputs": [
        {
          "output_type": "execute_result",
          "data": {
            "text/plain": [
              "['Ahemdabad', 'Delhi', 'Bangalore', 'Heydrabad']"
            ]
          },
          "metadata": {},
          "execution_count": 67
        }
      ]
    },
    {
      "cell_type": "code",
      "source": [
        "#take\n",
        "cities_rdd.take(2)"
      ],
      "metadata": {
        "colab": {
          "base_uri": "https://localhost:8080/"
        },
        "id": "uGINwsk_GMgz",
        "outputId": "41bcb8a7-5960-49f4-fb4a-32ac2bbbcd3e"
      },
      "execution_count": null,
      "outputs": [
        {
          "output_type": "execute_result",
          "data": {
            "text/plain": [
              "['Ahemdabad', 'Delhi']"
            ]
          },
          "metadata": {},
          "execution_count": 68
        }
      ]
    },
    {
      "cell_type": "code",
      "source": [
        "# reduce by key transformation\n",
        "\n",
        "customer_per_city = parsed_rdd.map(lambda row:(row[2],1)).reduceByKey(lambda x,y:x+y)"
      ],
      "metadata": {
        "id": "IFAg7qr-Gvci"
      },
      "execution_count": null,
      "outputs": []
    },
    {
      "cell_type": "code",
      "source": [
        "customer_per_city.collect()"
      ],
      "metadata": {
        "colab": {
          "base_uri": "https://localhost:8080/"
        },
        "id": "L9b_TDwmHZwn",
        "outputId": "7c1964ce-de65-4e5b-bf0f-bff91a71a90d"
      },
      "execution_count": null,
      "outputs": [
        {
          "output_type": "execute_result",
          "data": {
            "text/plain": [
              "[('Ahemdabad', 1), ('Delhi', 1), ('Bangalore', 3), ('Heydrabad', 1)]"
            ]
          },
          "metadata": {},
          "execution_count": 70
        }
      ]
    },
    {
      "cell_type": "code",
      "source": [
        "#count by value\n",
        "\n",
        "count_per_city = parsed_rdd.map(lambda row:row[2]).countByValue()"
      ],
      "metadata": {
        "id": "Hhy59nD3Hcls"
      },
      "execution_count": null,
      "outputs": []
    },
    {
      "cell_type": "code",
      "source": [
        "#Important reduce  by key is a transformation while count by key is an action"
      ],
      "metadata": {
        "id": "8QHcnv-OIZsu"
      },
      "execution_count": null,
      "outputs": []
    },
    {
      "cell_type": "code",
      "source": [
        "count_per_city"
      ],
      "metadata": {
        "colab": {
          "base_uri": "https://localhost:8080/"
        },
        "id": "JbFumYVoHub4",
        "outputId": "2f10ab98-010a-4d0a-9c94-f2f0c54abd2c"
      },
      "execution_count": null,
      "outputs": [
        {
          "output_type": "execute_result",
          "data": {
            "text/plain": [
              "defaultdict(int, {'Bangalore': 3, 'Heydrabad': 1, 'Ahemdabad': 1, 'Delhi': 1})"
            ]
          },
          "metadata": {},
          "execution_count": 75
        }
      ]
    },
    {
      "cell_type": "code",
      "source": [
        "#Combine more operation\n",
        "active_cities = parsed_rdd.filter(lambda row:row[6])\\\n",
        "                          .map(lambda row:row[2])\\\n",
        "                          .distinct()"
      ],
      "metadata": {
        "id": "P9lFjDoRH6xy"
      },
      "execution_count": null,
      "outputs": []
    },
    {
      "cell_type": "code",
      "source": [
        "active_cities.collect()"
      ],
      "metadata": {
        "colab": {
          "base_uri": "https://localhost:8080/"
        },
        "id": "p5YqTwF9Iw_x",
        "outputId": "04f60cdf-77ac-4e1f-a3f1-514969c9d5ce"
      },
      "execution_count": null,
      "outputs": [
        {
          "output_type": "execute_result",
          "data": {
            "text/plain": [
              "['Ahemdabad', 'Bangalore', 'Heydrabad']"
            ]
          },
          "metadata": {},
          "execution_count": 80
        }
      ]
    },
    {
      "cell_type": "code",
      "source": [
        "#count active customer by state\n",
        "\n",
        "active_customer = parsed_rdd.filter(lambda row:row[6] == True)"
      ],
      "metadata": {
        "id": "mMuqR2FOJIqz"
      },
      "execution_count": null,
      "outputs": []
    },
    {
      "cell_type": "code",
      "source": [
        "active_customer.collect()"
      ],
      "metadata": {
        "colab": {
          "base_uri": "https://localhost:8080/"
        },
        "id": "0RgAWpjdJo66",
        "outputId": "8adc788d-03a2-4f3f-b443-ed51e745fd01"
      },
      "execution_count": null,
      "outputs": [
        {
          "output_type": "execute_result",
          "data": {
            "text/plain": [
              "[('0', 'Customer_0', 'Bangalore', 'karnataka', 'INdia', '2023-11-11', True),\n",
              " ('1', 'Customer_1', 'Heydrabad', 'karnataka', 'INdia', '2023-11-11', True),\n",
              " ('2', 'Customer_2', 'Ahemdabad', 'gujarat', 'INdia', '2023-11-11', True)]"
            ]
          },
          "metadata": {},
          "execution_count": 88
        }
      ]
    },
    {
      "cell_type": "code",
      "source": [
        "active_state_customer = parsed_rdd.filter(lambda row:row[6]== True).map(lambda row:(row[3],1)).reduceByKey(lambda x,y:x+y)"
      ],
      "metadata": {
        "id": "rNpS9CmtK9lC"
      },
      "execution_count": null,
      "outputs": []
    },
    {
      "cell_type": "code",
      "source": [
        "active_state_customer.collect()"
      ],
      "metadata": {
        "colab": {
          "base_uri": "https://localhost:8080/"
        },
        "id": "YdptGNJBL0Br",
        "outputId": "fa4e34ce-7325-4635-ba8e-a5c6041bbc70"
      },
      "execution_count": null,
      "outputs": [
        {
          "output_type": "execute_result",
          "data": {
            "text/plain": [
              "[('karnataka', 2), ('gujarat', 1)]"
            ]
          },
          "metadata": {},
          "execution_count": 108
        }
      ]
    },
    {
      "cell_type": "code",
      "source": [
        "# Reduce by key is a good fit because it works in active memory so it uses less disk r\\W resources in compare of group by.\n",
        "# we can see use of resorces in YARN"
      ],
      "metadata": {
        "id": "2kUBkLDFL4QN"
      },
      "execution_count": 109,
      "outputs": []
    },
    {
      "cell_type": "code",
      "source": [
        "#increasing and decresing partation in pyspark\n",
        "# repartation or coalsec"
      ],
      "metadata": {
        "id": "AMIeR0H4NV9T"
      },
      "execution_count": 110,
      "outputs": []
    },
    {
      "cell_type": "code",
      "source": [
        "parsed_rdd.getNumPartitions()"
      ],
      "metadata": {
        "colab": {
          "base_uri": "https://localhost:8080/"
        },
        "id": "OCWDH4J5N2Eq",
        "outputId": "3fe9d2fc-84e3-4ef3-ac1c-10f15f220c7f"
      },
      "execution_count": 111,
      "outputs": [
        {
          "output_type": "execute_result",
          "data": {
            "text/plain": [
              "2"
            ]
          },
          "metadata": {},
          "execution_count": 111
        }
      ]
    },
    {
      "cell_type": "code",
      "source": [
        "part_increase = parsed_rdd.repartition(4) #we must have to save in another variable for increasing and decreasing the partation"
      ],
      "metadata": {
        "id": "cqO_Bj9iN5sw"
      },
      "execution_count": 117,
      "outputs": []
    },
    {
      "cell_type": "code",
      "source": [
        "part_increase.getNumPartitions()"
      ],
      "metadata": {
        "colab": {
          "base_uri": "https://localhost:8080/"
        },
        "id": "BDVJFmvON_EN",
        "outputId": "3f04b854-ec98-4086-ac2c-f7ed3ae9a9ff"
      },
      "execution_count": 118,
      "outputs": [
        {
          "output_type": "execute_result",
          "data": {
            "text/plain": [
              "4"
            ]
          },
          "metadata": {},
          "execution_count": 118
        }
      ]
    },
    {
      "cell_type": "code",
      "source": [
        "#coalsec is prefered for decresing the partation because it's faster"
      ],
      "metadata": {
        "id": "A3JtVf3zOLdX"
      },
      "execution_count": 1,
      "outputs": []
    },
    {
      "cell_type": "code",
      "source": [
        "spark.stop()"
      ],
      "metadata": {
        "colab": {
          "base_uri": "https://localhost:8080/",
          "height": 146
        },
        "id": "SRoH313jlppP",
        "outputId": "ac89fa2c-4b3c-462a-9c96-786aada5b394"
      },
      "execution_count": 2,
      "outputs": [
        {
          "output_type": "error",
          "ename": "NameError",
          "evalue": "name 'spark' is not defined",
          "traceback": [
            "\u001b[0;31m---------------------------------------------------------------------------\u001b[0m",
            "\u001b[0;31mNameError\u001b[0m                                 Traceback (most recent call last)",
            "\u001b[0;32m<ipython-input-2-5c6b4d5d9db0>\u001b[0m in \u001b[0;36m<cell line: 0>\u001b[0;34m()\u001b[0m\n\u001b[0;32m----> 1\u001b[0;31m \u001b[0mspark\u001b[0m\u001b[0;34m.\u001b[0m\u001b[0mstop\u001b[0m\u001b[0;34m(\u001b[0m\u001b[0;34m)\u001b[0m\u001b[0;34m\u001b[0m\u001b[0;34m\u001b[0m\u001b[0m\n\u001b[0m",
            "\u001b[0;31mNameError\u001b[0m: name 'spark' is not defined"
          ]
        }
      ]
    },
    {
      "cell_type": "code",
      "source": [],
      "metadata": {
        "id": "DURu9fLalq1_"
      },
      "execution_count": null,
      "outputs": []
    }
  ]
}